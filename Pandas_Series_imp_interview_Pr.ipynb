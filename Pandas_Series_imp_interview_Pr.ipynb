{
  "nbformat": 4,
  "nbformat_minor": 0,
  "metadata": {
    "colab": {
      "provenance": []
    },
    "kernelspec": {
      "name": "python3",
      "display_name": "Python 3"
    },
    "language_info": {
      "name": "python"
    }
  },
  "cells": [
    {
      "cell_type": "markdown",
      "source": [
        "# Pandas Practice Questions:oct 2023"
      ],
      "metadata": {
        "id": "wHKNyCUeYe6k"
      }
    },
    {
      "cell_type": "code",
      "execution_count": 2,
      "metadata": {
        "id": "6u4Vrjv5YNMG"
      },
      "outputs": [],
      "source": [
        "# import pandas and numpy libraries\n",
        "import pandas as pd\n",
        "import pandas as np"
      ]
    },
    {
      "cell_type": "markdown",
      "source": [
        "# I.Pandas Series:\n",
        "*1dimensional labeled array*,\n",
        "*Asingle column in table *\n",
        "*Series()*"
      ],
      "metadata": {
        "id": "AIu6RLPLY8mA"
      }
    },
    {
      "cell_type": "code",
      "source": [
        "#Q.1 Write program to convert a list into Series"
      ],
      "metadata": {
        "id": "KQwt_xngYwxY"
      },
      "execution_count": null,
      "outputs": []
    },
    {
      "cell_type": "code",
      "source": [
        "\n",
        "# Create a list\n",
        "my_list = ['apple', 'banana', 'cherry', 'date']\n",
        "\n",
        "# Convert the list into a Series\n",
        "my_series = pd.Series(my_list) #pd.Series() function to convert a list into a Series.\n",
        "\n",
        "print(my_series)\n"
      ],
      "metadata": {
        "colab": {
          "base_uri": "https://localhost:8080/"
        },
        "id": "xKJsxAx-ZmuQ",
        "outputId": "fafa87e1-e8af-4104-b950-40ff956f1253"
      },
      "execution_count": null,
      "outputs": [
        {
          "output_type": "stream",
          "name": "stdout",
          "text": [
            "0     apple\n",
            "1    banana\n",
            "2    cherry\n",
            "3      date\n",
            "dtype: object\n"
          ]
        }
      ]
    },
    {
      "cell_type": "code",
      "source": [
        "my_series"
      ],
      "metadata": {
        "colab": {
          "base_uri": "https://localhost:8080/"
        },
        "id": "HI7K9tMfZnNL",
        "outputId": "d9684652-c6f5-4349-95ee-43679faf1eba"
      },
      "execution_count": null,
      "outputs": [
        {
          "output_type": "execute_result",
          "data": {
            "text/plain": [
              "0     apple\n",
              "1    banana\n",
              "2    cherry\n",
              "3      date\n",
              "dtype: object"
            ]
          },
          "metadata": {},
          "execution_count": 4
        }
      ]
    },
    {
      "cell_type": "code",
      "source": [
        "#Q2. Convert pandasseries into list ?\n",
        "#tolist() method to convert a Pandas Series into a Python list."
      ],
      "metadata": {
        "id": "F-RKjWD4ZnRq"
      },
      "execution_count": null,
      "outputs": []
    },
    {
      "cell_type": "code",
      "source": [
        "# Convert the Series into a Python list\n",
        "my_list1 = my_series.tolist()\n",
        "\n",
        "print(my_list1)\n"
      ],
      "metadata": {
        "colab": {
          "base_uri": "https://localhost:8080/"
        },
        "id": "fH6ZWvxUZaxd",
        "outputId": "71c8e39d-129a-40c8-d6aa-09ee6e90cc3b"
      },
      "execution_count": null,
      "outputs": [
        {
          "output_type": "stream",
          "name": "stdout",
          "text": [
            "['apple', 'banana', 'cherry', 'date']\n"
          ]
        }
      ]
    },
    {
      "cell_type": "code",
      "source": [
        "# Q3. For a given series, chnage the default index into odd index only"
      ],
      "metadata": {
        "id": "jKA__pVQal_G"
      },
      "execution_count": null,
      "outputs": []
    },
    {
      "cell_type": "code",
      "source": [
        "# ex 1\n",
        "l = [2, 4, 5, 6, 9]\n",
        "\n",
        "s = pd.Series(l, index = [1, 3, 5, 7, 9])\n",
        "\n",
        "print(s)"
      ],
      "metadata": {
        "colab": {
          "base_uri": "https://localhost:8080/"
        },
        "id": "dmj2aBSPaxTZ",
        "outputId": "e51d1b12-3936-423a-80d8-4e3e9c09abad"
      },
      "execution_count": null,
      "outputs": [
        {
          "output_type": "stream",
          "name": "stdout",
          "text": [
            "1    2\n",
            "3    4\n",
            "5    5\n",
            "7    6\n",
            "9    9\n",
            "dtype: int64\n"
          ]
        }
      ]
    },
    {
      "cell_type": "code",
      "source": [
        "#Ex2.\n",
        "my_list12 = ['apple', 'banana', 'cherry', 'date']\n",
        "\n",
        "# Convert the list into a Series\n",
        "my_series1 = pd.Series(my_list12,index = [1, 3, 5, 7])\n",
        "\n",
        "\n",
        "my_series1"
      ],
      "metadata": {
        "colab": {
          "base_uri": "https://localhost:8080/"
        },
        "id": "vIj3dA-4baou",
        "outputId": "36387118-c3c3-4f5a-db14-4fe12369ff47"
      },
      "execution_count": null,
      "outputs": [
        {
          "output_type": "execute_result",
          "data": {
            "text/plain": [
              "1     apple\n",
              "3    banana\n",
              "5    cherry\n",
              "7      date\n",
              "dtype: object"
            ]
          },
          "metadata": {},
          "execution_count": 11
        }
      ]
    },
    {
      "cell_type": "code",
      "source": [
        "#Q4.Write a Pandas program to add, subtract, multiple and divide two Pandas Series.\n",
        "#arithmeticoperations between series"
      ],
      "metadata": {
        "id": "57btDrhEbClm"
      },
      "execution_count": null,
      "outputs": []
    },
    {
      "cell_type": "code",
      "source": [
        "ds1 = pd.Series([2, 4, 6, 8, 10])\n",
        "ds2 = pd.Series([1, 3, 5, 7, 9])\n",
        "ds1"
      ],
      "metadata": {
        "colab": {
          "base_uri": "https://localhost:8080/"
        },
        "id": "VfxVAVXycD5E",
        "outputId": "4d8931cd-3aad-43df-ceb9-5e40c6c7d3ef"
      },
      "execution_count": null,
      "outputs": [
        {
          "output_type": "execute_result",
          "data": {
            "text/plain": [
              "0     2\n",
              "1     4\n",
              "2     6\n",
              "3     8\n",
              "4    10\n",
              "dtype: int64"
            ]
          },
          "metadata": {},
          "execution_count": 12
        }
      ]
    },
    {
      "cell_type": "code",
      "source": [
        "ds1.dtype"
      ],
      "metadata": {
        "colab": {
          "base_uri": "https://localhost:8080/"
        },
        "id": "UwNMJNPacEJW",
        "outputId": "41c30036-057c-4fd7-8490-f702682b0e5a"
      },
      "execution_count": null,
      "outputs": [
        {
          "output_type": "execute_result",
          "data": {
            "text/plain": [
              "dtype('int64')"
            ]
          },
          "metadata": {},
          "execution_count": 13
        }
      ]
    },
    {
      "cell_type": "code",
      "source": [
        "type(ds1)"
      ],
      "metadata": {
        "colab": {
          "base_uri": "https://localhost:8080/"
        },
        "id": "aLn_6g_3cIcD",
        "outputId": "151d36f2-0451-4fbe-988f-c2b2590140b8"
      },
      "execution_count": null,
      "outputs": [
        {
          "output_type": "execute_result",
          "data": {
            "text/plain": [
              "pandas.core.series.Series"
            ]
          },
          "metadata": {},
          "execution_count": 14
        }
      ]
    },
    {
      "cell_type": "code",
      "source": [
        "ds = ds1 + ds2 # addition +\n",
        "print(\"Add two Series:\")\n",
        "print(ds)\n"
      ],
      "metadata": {
        "colab": {
          "base_uri": "https://localhost:8080/"
        },
        "id": "Q6pmyscqcLOG",
        "outputId": "515ede0d-9794-4f8b-9c9c-8b0ea99263bb"
      },
      "execution_count": null,
      "outputs": [
        {
          "output_type": "stream",
          "name": "stdout",
          "text": [
            "Add two Series:\n",
            "0     3\n",
            "1     7\n",
            "2    11\n",
            "3    15\n",
            "4    19\n",
            "dtype: int64\n"
          ]
        }
      ]
    },
    {
      "cell_type": "code",
      "source": [
        "print(\"Subtract two Series:\")\n",
        "ds = ds1 - ds2 # subtract -\n",
        "print(ds)\n",
        "print(\"Multiply two Series:\")\n",
        "ds = ds1 * ds2\n",
        "print(ds)\n",
        "print(\"Divide Series1 by Series2:\")\n",
        "ds = ds1 / ds2\n",
        "print(ds)\n",
        "#the corresponding element-wise operation is performed on the Series"
      ],
      "metadata": {
        "colab": {
          "base_uri": "https://localhost:8080/"
        },
        "id": "0rOtBXUAcWw3",
        "outputId": "0769142a-8964-4913-c0f9-04d94a0fd6f0"
      },
      "execution_count": null,
      "outputs": [
        {
          "output_type": "stream",
          "name": "stdout",
          "text": [
            "Subtract two Series:\n",
            "0    1\n",
            "1    1\n",
            "2    1\n",
            "3    1\n",
            "4    1\n",
            "dtype: int64\n",
            "Multiply two Series:\n",
            "0     2\n",
            "1    12\n",
            "2    30\n",
            "3    56\n",
            "4    90\n",
            "dtype: int64\n",
            "Divide Series1 by Series2:\n",
            "0    2.000000\n",
            "1    1.333333\n",
            "2    1.200000\n",
            "3    1.142857\n",
            "4    1.111111\n",
            "dtype: float64\n"
          ]
        }
      ]
    },
    {
      "cell_type": "code",
      "source": [
        "# Q5.Write a Pandas program to compare the elements of the two Pandas Series."
      ],
      "metadata": {
        "id": "U7Rlh-gHcwIK"
      },
      "execution_count": null,
      "outputs": []
    },
    {
      "cell_type": "markdown",
      "source": [
        "*You can use the comparison operators (==, !=, <, <=, >, >=) to compare elements of two Pandas Series*"
      ],
      "metadata": {
        "id": "TtCvft31c9aG"
      }
    },
    {
      "cell_type": "code",
      "source": [
        "s1 = pd.Series([10, 20, 30, 40])\n",
        "s2 = pd.Series([15, 20, 25, 40])\n"
      ],
      "metadata": {
        "id": "8Gmbob-8c5ks"
      },
      "execution_count": null,
      "outputs": []
    },
    {
      "cell_type": "code",
      "source": [
        "# Compare elements using operators\n",
        "eq = s1 == s2  # Equal\n",
        "print(\"Equal:\\n\", eq)\n",
        "neq = s1 != s2  # Not Equal\n",
        "print(\"\\nNot Equal:\\n\", neq)\n",
        "lt = s1 < s2   # Less Than\n",
        "print(\"\\nLess Than:\\n\", lt)\n",
        "lte = s1 <= s2  # Less Than or Equal\n",
        "print(\"\\nLess Than or Equal:\\n\", lte)\n",
        "gt = s1 > s2   # Greater Than\n",
        "print(\"\\nGreater Than:\\n\", gt)\n",
        "gte = s1 >= s2  # Greater Than or Equal\n",
        "\n",
        "print(\"\\nGreater Than or Equal:\\n\", gte)"
      ],
      "metadata": {
        "colab": {
          "base_uri": "https://localhost:8080/"
        },
        "id": "rhwoj34jc6iB",
        "outputId": "89040345-bfdc-4ffe-e40e-426f8c938b6f"
      },
      "execution_count": null,
      "outputs": [
        {
          "output_type": "stream",
          "name": "stdout",
          "text": [
            "Equal:\n",
            " 0    False\n",
            "1     True\n",
            "2    False\n",
            "3     True\n",
            "dtype: bool\n",
            "\n",
            "Not Equal:\n",
            " 0     True\n",
            "1    False\n",
            "2     True\n",
            "3    False\n",
            "dtype: bool\n",
            "\n",
            "Less Than:\n",
            " 0     True\n",
            "1    False\n",
            "2    False\n",
            "3    False\n",
            "dtype: bool\n",
            "\n",
            "Less Than or Equal:\n",
            " 0     True\n",
            "1     True\n",
            "2    False\n",
            "3     True\n",
            "dtype: bool\n",
            "\n",
            "Greater Than:\n",
            " 0    False\n",
            "1    False\n",
            "2     True\n",
            "3    False\n",
            "dtype: bool\n",
            "\n",
            "Greater Than or Equal:\n",
            " 0    False\n",
            "1     True\n",
            "2     True\n",
            "3     True\n",
            "dtype: bool\n"
          ]
        }
      ]
    },
    {
      "cell_type": "code",
      "source": [
        "'''  Each operation returns a Series of boolean values indicating the result of the comparison.'''"
      ],
      "metadata": {
        "colab": {
          "base_uri": "https://localhost:8080/",
          "height": 36
        },
        "id": "_Aa-FXO6dohe",
        "outputId": "48e46fe1-cfa9-4380-955e-d831b4a2fff9"
      },
      "execution_count": null,
      "outputs": [
        {
          "output_type": "execute_result",
          "data": {
            "text/plain": [
              "'  Each operation returns a Series of boolean values indicating the result of the comparison.'"
            ],
            "application/vnd.google.colaboratory.intrinsic+json": {
              "type": "string"
            }
          },
          "metadata": {},
          "execution_count": 24
        }
      ]
    },
    {
      "cell_type": "code",
      "source": [
        "#q.6 Write a Pandas program to convert a dictionary to a Pandas series.?\n",
        "\n",
        "d1 = {'a': 100, 'b': 200, 'c':300, 'd':400, 'e':800}\n",
        "print(\"Original dictionary:\")\n",
        "print(d1)"
      ],
      "metadata": {
        "colab": {
          "base_uri": "https://localhost:8080/"
        },
        "id": "VZuTBc9dc6oO",
        "outputId": "7c19af64-e205-4610-9328-ade7883aa5f0"
      },
      "execution_count": null,
      "outputs": [
        {
          "output_type": "stream",
          "name": "stdout",
          "text": [
            "Original dictionary:\n",
            "{'a': 100, 'b': 200, 'c': 300, 'd': 400, 'e': 800}\n"
          ]
        }
      ]
    },
    {
      "cell_type": "code",
      "source": [
        "d2={'A': 10, 'B': 20, 'C': 30, 'D': 40}\n",
        "d2"
      ],
      "metadata": {
        "colab": {
          "base_uri": "https://localhost:8080/"
        },
        "id": "VbJM_tNhc5p-",
        "outputId": "e41c9264-4e67-4326-a6c5-9f0dbe4dec87"
      },
      "execution_count": null,
      "outputs": [
        {
          "output_type": "execute_result",
          "data": {
            "text/plain": [
              "{'A': 10, 'B': 20, 'C': 30, 'D': 40}"
            ]
          },
          "metadata": {},
          "execution_count": 27
        }
      ]
    },
    {
      "cell_type": "code",
      "source": [
        "# Convert the dictionary into a Pandas Series\n",
        "pd.Series(d2)\n",
        "#key value takes as index values"
      ],
      "metadata": {
        "colab": {
          "base_uri": "https://localhost:8080/"
        },
        "id": "lObjGCo_eScY",
        "outputId": "859125ec-4087-404b-d4b9-273ac3d5367f"
      },
      "execution_count": null,
      "outputs": [
        {
          "output_type": "execute_result",
          "data": {
            "text/plain": [
              "A    10\n",
              "B    20\n",
              "C    30\n",
              "D    40\n",
              "dtype: int64"
            ]
          },
          "metadata": {},
          "execution_count": 30
        }
      ]
    },
    {
      "cell_type": "code",
      "source": [
        "pd.Series(d1)"
      ],
      "metadata": {
        "colab": {
          "base_uri": "https://localhost:8080/"
        },
        "id": "zxHYaOe9ekXX",
        "outputId": "ca743ef3-32b5-4cd4-b8a0-7fec84d3f6ff"
      },
      "execution_count": null,
      "outputs": [
        {
          "output_type": "execute_result",
          "data": {
            "text/plain": [
              "a    100\n",
              "b    200\n",
              "c    300\n",
              "d    400\n",
              "e    800\n",
              "dtype: int64"
            ]
          },
          "metadata": {},
          "execution_count": 31
        }
      ]
    },
    {
      "cell_type": "code",
      "source": [
        "#Q.7Write a Pandas program to change the data type of given a column or a Series."
      ],
      "metadata": {
        "id": "jTfkvuw_efXA"
      },
      "execution_count": null,
      "outputs": []
    },
    {
      "cell_type": "code",
      "source": [
        "s3 = pd.Series(['100', '200', 'python', '300.12', '400'])\n",
        "print(\"Original Data Series:\")\n",
        "print(s3)\n"
      ],
      "metadata": {
        "colab": {
          "base_uri": "https://localhost:8080/"
        },
        "id": "TZnjx422ezLm",
        "outputId": "8611b04a-9bd7-4a6e-a908-c6c85566ccd3"
      },
      "execution_count": null,
      "outputs": [
        {
          "output_type": "stream",
          "name": "stdout",
          "text": [
            "Original Data Series:\n",
            "0       100\n",
            "1       200\n",
            "2    python\n",
            "3    300.12\n",
            "4       400\n",
            "dtype: object\n"
          ]
        }
      ]
    },
    {
      "cell_type": "code",
      "source": [
        "print(\"Change the said data type to numeric:\")\n",
        "s4 = pd.to_numeric(s3, errors='coerce')\n",
        "print(s4)"
      ],
      "metadata": {
        "colab": {
          "base_uri": "https://localhost:8080/"
        },
        "id": "AOhIVOPZf0oy",
        "outputId": "ed9c8f07-4171-405c-be31-6b2796dc71b8"
      },
      "execution_count": null,
      "outputs": [
        {
          "output_type": "stream",
          "name": "stdout",
          "text": [
            "Change the said data type to numeric:\n",
            "0    100.00\n",
            "1    200.00\n",
            "2       NaN\n",
            "3    300.12\n",
            "4    400.00\n",
            "dtype: float64\n"
          ]
        }
      ]
    },
    {
      "cell_type": "markdown",
      "source": [
        "*use pd.to_numeric() to convert the Series to numeric values. Since we specified errors='coerce', any non-numeric values will be converted to NaN.*"
      ],
      "metadata": {
        "id": "1yEhTCfzgICy"
      }
    },
    {
      "cell_type": "code",
      "source": [
        "# Create a Series with some values, including a non-numeric one ('abc')\n",
        "s5 = pd.Series([1, 2, 'abc', 4, 5])\n",
        "\n",
        "# Convert the Series to numeric, handling errors by setting non-numeric values to NaN\n",
        "s6 = pd.to_numeric(s5, errors='coerce')\n",
        "\n",
        "print(s6)\n"
      ],
      "metadata": {
        "colab": {
          "base_uri": "https://localhost:8080/"
        },
        "id": "QAbdfKFZhVc9",
        "outputId": "1ba40939-7775-4c05-c14b-206afeeea2c2"
      },
      "execution_count": null,
      "outputs": [
        {
          "output_type": "stream",
          "name": "stdout",
          "text": [
            "0    1.0\n",
            "1    2.0\n",
            "2    NaN\n",
            "3    4.0\n",
            "4    5.0\n",
            "dtype: float64\n"
          ]
        }
      ]
    },
    {
      "cell_type": "code",
      "source": [
        "# using astype():\n",
        "ss = pd.Series([1, 2, '3', 4, 5])\n",
        "print(ss)"
      ],
      "metadata": {
        "colab": {
          "base_uri": "https://localhost:8080/"
        },
        "id": "zW92N7izheIM",
        "outputId": "48eb8cb1-0ed3-43ca-8def-274353ac7732"
      },
      "execution_count": null,
      "outputs": [
        {
          "output_type": "stream",
          "name": "stdout",
          "text": [
            "0    1\n",
            "1    2\n",
            "2    3\n",
            "3    4\n",
            "4    5\n",
            "dtype: object\n"
          ]
        }
      ]
    },
    {
      "cell_type": "code",
      "source": [
        "s_str = ss.astype(str)\n",
        "print(s_str)"
      ],
      "metadata": {
        "colab": {
          "base_uri": "https://localhost:8080/"
        },
        "id": "2Zzz29MChBHi",
        "outputId": "4af6c3e5-0bc9-4a6f-a74e-4355a39d4c71"
      },
      "execution_count": null,
      "outputs": [
        {
          "output_type": "stream",
          "name": "stdout",
          "text": [
            "0    1\n",
            "1    2\n",
            "2    3\n",
            "3    4\n",
            "4    5\n",
            "dtype: object\n"
          ]
        }
      ]
    },
    {
      "cell_type": "code",
      "source": [
        "s_float = ss.astype(float) #s.astype(float) converts the Series to float\n",
        "print(s_float)"
      ],
      "metadata": {
        "colab": {
          "base_uri": "https://localhost:8080/"
        },
        "id": "GaIn17MEiEe1",
        "outputId": "88c290b6-5e25-4ba2-c862-de72d1533b99"
      },
      "execution_count": null,
      "outputs": [
        {
          "output_type": "stream",
          "name": "stdout",
          "text": [
            "0    1.0\n",
            "1    2.0\n",
            "2    3.0\n",
            "3    4.0\n",
            "4    5.0\n",
            "dtype: float64\n"
          ]
        }
      ]
    },
    {
      "cell_type": "code",
      "source": [
        "#Q.8 Write a Pandas program to convert a given Series to an array."
      ],
      "metadata": {
        "id": "d4M3tCwgiSEa"
      },
      "execution_count": null,
      "outputs": []
    },
    {
      "cell_type": "code",
      "source": [
        "s8 = pd.Series(['100', '200', 'python', '300.12', '400'])\n",
        "print(\"Original Data Series:\")\n",
        "print(s8)\n"
      ],
      "metadata": {
        "colab": {
          "base_uri": "https://localhost:8080/"
        },
        "id": "adN_O9XLiW7D",
        "outputId": "15994b6c-0e6a-4866-803a-aa1b585a89a9"
      },
      "execution_count": null,
      "outputs": [
        {
          "output_type": "stream",
          "name": "stdout",
          "text": [
            "Original Data Series:\n",
            "0       100\n",
            "1       200\n",
            "2    python\n",
            "3    300.12\n",
            "4       400\n",
            "dtype: object\n"
          ]
        }
      ]
    },
    {
      "cell_type": "code",
      "source": [
        "print(\"Series to an array\")\n",
        "a = np.array(s8.values.tolist())\n",
        "print (a)"
      ],
      "metadata": {
        "colab": {
          "base_uri": "https://localhost:8080/"
        },
        "id": "IkVrVleBi-QB",
        "outputId": "6e7b4581-ce9d-4534-d37a-9c44a821a0bf"
      },
      "execution_count": null,
      "outputs": [
        {
          "output_type": "stream",
          "name": "stdout",
          "text": [
            "Series to an array\n",
            "<StringArray>\n",
            "['100', '200', 'python', '300.12', '400']\n",
            "Length: 5, dtype: string\n"
          ]
        }
      ]
    },
    {
      "cell_type": "code",
      "source": [
        "# or\n",
        "arr = s8.values\n",
        "arr"
      ],
      "metadata": {
        "colab": {
          "base_uri": "https://localhost:8080/"
        },
        "id": "HzZRXTEPjIJx",
        "outputId": "e0765f18-5a00-4239-e0d6-7a35fd10e4ed"
      },
      "execution_count": null,
      "outputs": [
        {
          "output_type": "execute_result",
          "data": {
            "text/plain": [
              "array(['100', '200', 'python', '300.12', '400'], dtype=object)"
            ]
          },
          "metadata": {},
          "execution_count": 48
        }
      ]
    },
    {
      "cell_type": "markdown",
      "source": [
        "*The .values attribute returns a NumPy array representing the values of the Series.*"
      ],
      "metadata": {
        "id": "YvCddZhkjV1K"
      }
    },
    {
      "cell_type": "code",
      "source": [
        "#Q. 9 Write a Pandas program to convert the first column of a DataFrame as a Series."
      ],
      "metadata": {
        "id": "JwIJhBkvjLMe"
      },
      "execution_count": null,
      "outputs": []
    },
    {
      "cell_type": "code",
      "source": [
        "d = {'col1': [1, 2, 3, 4, 7, 11], 'col2': [4, 5, 6, 9, 5, 0], 'col3': [7, 5, 8, 12, 1,11]}\n",
        "df = pd.DataFrame(data=d)\n",
        "print(\"Original DataFrame\")\n",
        "print(df)\n",
        "print(type(df))"
      ],
      "metadata": {
        "colab": {
          "base_uri": "https://localhost:8080/"
        },
        "id": "41c1IVuIjo4_",
        "outputId": "562216ca-85ba-473d-a7d5-715425f3d55f"
      },
      "execution_count": null,
      "outputs": [
        {
          "output_type": "stream",
          "name": "stdout",
          "text": [
            "Original DataFrame\n",
            "   col1  col2  col3\n",
            "0     1     4     7\n",
            "1     2     5     5\n",
            "2     3     6     8\n",
            "3     4     9    12\n",
            "4     7     5     1\n",
            "5    11     0    11\n",
            "<class 'pandas.core.frame.DataFrame'>\n"
          ]
        }
      ]
    },
    {
      "cell_type": "code",
      "source": [
        "sss = df.iloc[:,0]\n",
        "print(\"\\n1st column as a Series:\")\n",
        "print(sss)\n",
        "print(type(sss))"
      ],
      "metadata": {
        "colab": {
          "base_uri": "https://localhost:8080/"
        },
        "id": "xD8hDejHj_yN",
        "outputId": "79f05d92-298c-4aeb-cd94-b93caafccd26"
      },
      "execution_count": null,
      "outputs": [
        {
          "output_type": "stream",
          "name": "stdout",
          "text": [
            "\n",
            "1st column as a Series:\n",
            "0     1\n",
            "1     2\n",
            "2     3\n",
            "3     4\n",
            "4     7\n",
            "5    11\n",
            "Name: col1, dtype: int64\n",
            "<class 'pandas.core.series.Series'>\n"
          ]
        }
      ]
    },
    {
      "cell_type": "code",
      "source": [
        "# or accesing 1st colum like this\n",
        "s23=df['col1']\n",
        "print(s23)\n",
        "print(type(s23))"
      ],
      "metadata": {
        "colab": {
          "base_uri": "https://localhost:8080/"
        },
        "id": "b8LAMJV0kWJp",
        "outputId": "2b136c45-e8c2-4fb5-a9d8-8ad178e6b9c4"
      },
      "execution_count": null,
      "outputs": [
        {
          "output_type": "stream",
          "name": "stdout",
          "text": [
            "0     1\n",
            "1     2\n",
            "2     3\n",
            "3     4\n",
            "4     7\n",
            "5    11\n",
            "Name: col1, dtype: int64\n",
            "<class 'pandas.core.series.Series'>\n"
          ]
        }
      ]
    },
    {
      "cell_type": "code",
      "source": [
        "#Q.10 Create a dataframe by joining more series\n",
        "#ans-To create a DataFrame by joining multiple Series, you can use the pd.concat() function."
      ],
      "metadata": {
        "id": "ngCZw8smkaoa"
      },
      "execution_count": null,
      "outputs": []
    },
    {
      "cell_type": "code",
      "source": [
        "\n",
        "# Create three sample Series\n",
        "s1 = pd.Series([1, 2, 3])\n",
        "s2 = pd.Series([4, 5, 6])\n",
        "s3 = pd.Series([7, 8, 9])\n",
        "\n",
        "# Concatenate the Series to create a DataFrame\n",
        "df = pd.concat([s1, s2, s3], axis=1) # along axis=1 (columns) to create a DataFrame\n",
        "\n",
        "\n",
        "print(df)\n"
      ],
      "metadata": {
        "colab": {
          "base_uri": "https://localhost:8080/"
        },
        "id": "dTyFL3CIk9B7",
        "outputId": "92f8a8ed-bd37-44ee-927d-58266b7ac6da"
      },
      "execution_count": null,
      "outputs": [
        {
          "output_type": "stream",
          "name": "stdout",
          "text": [
            "   0  1  2\n",
            "0  1  4  7\n",
            "1  2  5  8\n",
            "2  3  6  9\n"
          ]
        }
      ]
    },
    {
      "cell_type": "code",
      "source": [
        "df2 = pd.concat([s1, s2, s3], axis=0) # along axis=0 (rows) to create a DataFrame\n",
        "df2"
      ],
      "metadata": {
        "colab": {
          "base_uri": "https://localhost:8080/"
        },
        "id": "PP6G3ajllg70",
        "outputId": "d341c4e2-76f3-4988-f010-9fb29ebcc72a"
      },
      "execution_count": null,
      "outputs": [
        {
          "output_type": "execute_result",
          "data": {
            "text/plain": [
              "0    1\n",
              "1    2\n",
              "2    3\n",
              "0    4\n",
              "1    5\n",
              "2    6\n",
              "0    7\n",
              "1    8\n",
              "2    9\n",
              "dtype: int64"
            ]
          },
          "metadata": {},
          "execution_count": 61
        }
      ]
    },
    {
      "cell_type": "code",
      "source": [
        "df2.head()"
      ],
      "metadata": {
        "colab": {
          "base_uri": "https://localhost:8080/"
        },
        "id": "AMG1K97LlqZt",
        "outputId": "c89a6ed4-2af6-40fb-a829-a43593717aff"
      },
      "execution_count": null,
      "outputs": [
        {
          "output_type": "execute_result",
          "data": {
            "text/plain": [
              "0    1\n",
              "1    2\n",
              "2    3\n",
              "0    4\n",
              "1    5\n",
              "dtype: int64"
            ]
          },
          "metadata": {},
          "execution_count": 62
        }
      ]
    },
    {
      "cell_type": "code",
      "source": [
        "# Q.11. Program to create 2 integer Series and find all those elements of series 1 that are not present in series 2"
      ],
      "metadata": {
        "id": "1mwOTWF5luKv"
      },
      "execution_count": null,
      "outputs": []
    },
    {
      "cell_type": "code",
      "source": [
        "se1=pd.Series([1,2,3,4,5,9])\n",
        "se2=pd.Series([4,5,6,7,8,10])"
      ],
      "metadata": {
        "id": "rUgALCcKl6vh"
      },
      "execution_count": null,
      "outputs": []
    },
    {
      "cell_type": "code",
      "source": [
        "# Find elements in series1 that are not present in series2\n",
        "not_in_series2 = se1[~se1.isin(se2)]\n",
        "print(\"not inseries2 \\n\",not_in_series2)"
      ],
      "metadata": {
        "colab": {
          "base_uri": "https://localhost:8080/"
        },
        "id": "LBzgBCctmU0A",
        "outputId": "1aad765d-829e-419b-802d-20dc7729802e"
      },
      "execution_count": null,
      "outputs": [
        {
          "output_type": "stream",
          "name": "stdout",
          "text": [
            "not inseries2 \n",
            " 0    1\n",
            "1    2\n",
            "2    3\n",
            "5    9\n",
            "dtype: int64\n"
          ]
        }
      ]
    },
    {
      "cell_type": "code",
      "source": [
        "#Q.12 To find the elements in series1 that are present in series2, you can use the .\n",
        "#isin() function along with boolean indexing.\n",
        "#Find elements in series1 that are present in series2\n",
        "in_both_series = se1[se1.isin(se2)]\n",
        "\n",
        "print(\"Elements in series1 present in series2:\")\n",
        "print(in_both_series)"
      ],
      "metadata": {
        "colab": {
          "base_uri": "https://localhost:8080/"
        },
        "id": "luc3jPTVmlau",
        "outputId": "67ce57ef-7a84-44ac-ea0c-7647044d59e8"
      },
      "execution_count": null,
      "outputs": [
        {
          "output_type": "stream",
          "name": "stdout",
          "text": [
            "Elements in series1 present in series2:\n",
            "3    4\n",
            "4    5\n",
            "dtype: int64\n"
          ]
        }
      ]
    },
    {
      "cell_type": "code",
      "source": [
        "#Q.13 Program to create 2 float Series and find all those elements of series 1 that are not present in series 2:\n",
        "#TASK FOR YOU"
      ],
      "metadata": {
        "id": "5MpWTkvqnthn"
      },
      "execution_count": null,
      "outputs": []
    },
    {
      "cell_type": "code",
      "source": [
        "#Q.14 Program to create a new series that combines all elements in the given 2 series\n",
        "\n",
        "#use np.union1d(ser1, ser2) to find the union of elements from ser1 and ser2. This function returns a sorted array."
      ],
      "metadata": {
        "id": "N8aLpJBhoUbq"
      },
      "execution_count": null,
      "outputs": []
    },
    {
      "cell_type": "code",
      "source": [
        "\n",
        "import numpy as np\n",
        "\n",
        "ser1 = pd.Series([1, 2, 3, 4, 5])\n",
        "ser2 = pd.Series([4, 5, 6, 7, 8])\n",
        "ser_u = pd.Series(np.union1d(ser1, ser2))\n",
        "\n",
        "print(ser_u)\n",
        "\n"
      ],
      "metadata": {
        "colab": {
          "base_uri": "https://localhost:8080/"
        },
        "id": "oVqhVPBppJm2",
        "outputId": "1ff0d0e7-9915-4c13-8db8-fd9a623d3ca6"
      },
      "execution_count": null,
      "outputs": [
        {
          "output_type": "stream",
          "name": "stdout",
          "text": [
            "0    1\n",
            "1    2\n",
            "2    3\n",
            "3    4\n",
            "4    5\n",
            "5    6\n",
            "6    7\n",
            "7    8\n",
            "dtype: int64\n"
          ]
        }
      ]
    },
    {
      "cell_type": "code",
      "source": [
        "'''The np.union1d function is used to find the union of elements from both series,\n",
        " and then it is converted back to a pandas Series using pd.Series().\n",
        " The output will be the sorted union of elements from ser1 and ser2'''"
      ],
      "metadata": {
        "colab": {
          "base_uri": "https://localhost:8080/",
          "height": 54
        },
        "id": "GuCSEG4wrTkV",
        "outputId": "1622ead9-74ba-429c-df66-a2d9c81be281"
      },
      "execution_count": null,
      "outputs": [
        {
          "output_type": "execute_result",
          "data": {
            "text/plain": [
              "'The np.union1d function is used to find the union of elements from both series,\\n and then it is converted back to a pandas Series using pd.Series(). \\n The output will be the sorted union of elements from ser1 and ser2'"
            ],
            "application/vnd.google.colaboratory.intrinsic+json": {
              "type": "string"
            }
          },
          "metadata": {},
          "execution_count": 78
        }
      ]
    },
    {
      "cell_type": "markdown",
      "source": [
        "# DAY 2"
      ],
      "metadata": {
        "id": "VGq4hl7YQZxg"
      }
    },
    {
      "cell_type": "code",
      "source": [
        "# Q15. Program to create a new series that contains common elements of the given 2 series"
      ],
      "metadata": {
        "id": "-m96_bSVrcx3"
      },
      "execution_count": null,
      "outputs": []
    },
    {
      "cell_type": "code",
      "source": [
        "# METHOD 1: Using .isin() and boolean indexing\n",
        "\n",
        "ser1 = pd.Series([1, 2, 3, 4, 5])\n",
        "ser2 = pd.Series([4, 5, 6, 7, 8])\n",
        "\n",
        "# Find common elements using isin and boolean indexing\n",
        "common_elements = ser1[ser1.isin(ser2)] # .isin(): to create a boolean mask indicating which elements in ser1 are present in ser2\n",
        "\n",
        "print(common_elements)\n"
      ],
      "metadata": {
        "colab": {
          "base_uri": "https://localhost:8080/"
        },
        "id": "R6ukWZHURtJf",
        "outputId": "c11e34a3-d3ca-4238-de78-fa7a20110f5c"
      },
      "execution_count": 4,
      "outputs": [
        {
          "output_type": "stream",
          "name": "stdout",
          "text": [
            "3    4\n",
            "4    5\n",
            "dtype: int64\n"
          ]
        }
      ]
    },
    {
      "cell_type": "code",
      "source": [
        "# METHOD 2: USING np.intersect1d((ser1, ser2))\n",
        "## ??"
      ],
      "metadata": {
        "id": "j619Ae3BRHs3"
      },
      "execution_count": 12,
      "outputs": []
    },
    {
      "cell_type": "code",
      "source": [
        "#Q.16. How to extract items at given positions from a series?"
      ],
      "metadata": {
        "id": "oHfVRw7MRH-5"
      },
      "execution_count": null,
      "outputs": []
    },
    {
      "cell_type": "code",
      "source": [
        "# METHOD 1||: Using .take():.take() method to extract items at specific positions."
      ],
      "metadata": {
        "id": "dDxENQ-_VjIM"
      },
      "execution_count": 13,
      "outputs": []
    },
    {
      "cell_type": "code",
      "source": [
        "#.take()\n",
        "se = pd.Series([10, 20, 30, 40, 50, 60])\n",
        "\n",
        "# Extract items at positions 1, 3, and 5 using .take()\n",
        "extracted_items = se.take([1, 3, 5])\n",
        "\n",
        "print(extracted_items)\n"
      ],
      "metadata": {
        "colab": {
          "base_uri": "https://localhost:8080/"
        },
        "id": "9zvM-9rDVjRa",
        "outputId": "65383af4-941d-4903-b7f2-df2bf8a1bc33"
      },
      "execution_count": 14,
      "outputs": [
        {
          "output_type": "stream",
          "name": "stdout",
          "text": [
            "1    20\n",
            "3    40\n",
            "5    60\n",
            "dtype: int64\n"
          ]
        }
      ]
    },
    {
      "cell_type": "code",
      "source": [
        "se1 = pd.Series(list('abcdefghijklmnopqrstuvwxyz'))\n",
        "se1"
      ],
      "metadata": {
        "colab": {
          "base_uri": "https://localhost:8080/"
        },
        "id": "Y_tSAxoOWGzH",
        "outputId": "ddb28334-4068-4c49-8d57-827f483891e8"
      },
      "execution_count": 15,
      "outputs": [
        {
          "output_type": "execute_result",
          "data": {
            "text/plain": [
              "0     a\n",
              "1     b\n",
              "2     c\n",
              "3     d\n",
              "4     e\n",
              "5     f\n",
              "6     g\n",
              "7     h\n",
              "8     i\n",
              "9     j\n",
              "10    k\n",
              "11    l\n",
              "12    m\n",
              "13    n\n",
              "14    o\n",
              "15    p\n",
              "16    q\n",
              "17    r\n",
              "18    s\n",
              "19    t\n",
              "20    u\n",
              "21    v\n",
              "22    w\n",
              "23    x\n",
              "24    y\n",
              "25    z\n",
              "dtype: object"
            ]
          },
          "metadata": {},
          "execution_count": 15
        }
      ]
    },
    {
      "cell_type": "code",
      "source": [
        "pos = [0, 4, 8, 14, 20]\n",
        "se1.take(pos)"
      ],
      "metadata": {
        "colab": {
          "base_uri": "https://localhost:8080/"
        },
        "id": "Jn8x1ZDzRIGj",
        "outputId": "08722f33-9949-4a23-cd42-77af18d9059d"
      },
      "execution_count": 16,
      "outputs": [
        {
          "output_type": "execute_result",
          "data": {
            "text/plain": [
              "0     a\n",
              "4     e\n",
              "8     i\n",
              "14    o\n",
              "20    u\n",
              "dtype: object"
            ]
          },
          "metadata": {},
          "execution_count": 16
        }
      ]
    },
    {
      "cell_type": "code",
      "source": [
        "# Method 2: Using .iloc[]\n",
        "\n",
        "se2 = pd.Series([10, 20, 30, 40, 50, 60])\n",
        "\n",
        "# Extract items at positions 0, 2, and 4 using .iloc[]\n",
        "extracted_items = se2.iloc[[0, 2, 4]]\n",
        "\n",
        "print(extracted_items)\n"
      ],
      "metadata": {
        "colab": {
          "base_uri": "https://localhost:8080/"
        },
        "id": "nV07Wb0kWPFa",
        "outputId": "46e5fd7b-70b6-491a-abd2-4fcac802a586"
      },
      "execution_count": 17,
      "outputs": [
        {
          "output_type": "stream",
          "name": "stdout",
          "text": [
            "0    10\n",
            "2    30\n",
            "4    50\n",
            "dtype: int64\n"
          ]
        }
      ]
    },
    {
      "cell_type": "code",
      "source": [
        "# Methods 3: directly acces Using Indexing\n",
        "po=[1,3,4]\n",
        "e=se2[po]\n",
        "e"
      ],
      "metadata": {
        "colab": {
          "base_uri": "https://localhost:8080/"
        },
        "id": "QAw79WU9W2Uu",
        "outputId": "bbbf2f48-ff20-426c-9a96-12f0888b8516"
      },
      "execution_count": 18,
      "outputs": [
        {
          "output_type": "execute_result",
          "data": {
            "text/plain": [
              "1    20\n",
              "3    40\n",
              "4    50\n",
              "dtype: int64"
            ]
          },
          "metadata": {},
          "execution_count": 18
        }
      ]
    },
    {
      "cell_type": "code",
      "source": [
        "#Q.17 How to convert the first character of each element in a series to uppercase?"
      ],
      "metadata": {
        "id": "H7oLxOVlXB1z"
      },
      "execution_count": 19,
      "outputs": []
    },
    {
      "cell_type": "code",
      "source": [
        "se4=pd.Series(['ram','sita',123,'raj','apple','1a3'])\n",
        "se4"
      ],
      "metadata": {
        "colab": {
          "base_uri": "https://localhost:8080/"
        },
        "id": "z-qMAbkyXVt9",
        "outputId": "3737a94f-4c9d-4707-87c0-52f5f521411f"
      },
      "execution_count": 23,
      "outputs": [
        {
          "output_type": "execute_result",
          "data": {
            "text/plain": [
              "0      ram\n",
              "1     sita\n",
              "2      123\n",
              "3      raj\n",
              "4    apple\n",
              "5      1a3\n",
              "dtype: object"
            ]
          },
          "metadata": {},
          "execution_count": 23
        }
      ]
    },
    {
      "cell_type": "code",
      "source": [
        "#.str.capitalize() method to convert the first character of\n",
        "#each element in a Series to uppercase.\n",
        "s222 = se4.str.capitalize()\n",
        "s222"
      ],
      "metadata": {
        "colab": {
          "base_uri": "https://localhost:8080/"
        },
        "id": "nB_SlwwbXXgV",
        "outputId": "fbf500cf-eed5-4cd9-e4d5-c78f2fb5107e"
      },
      "execution_count": 24,
      "outputs": [
        {
          "output_type": "execute_result",
          "data": {
            "text/plain": [
              "0      Ram\n",
              "1     Sita\n",
              "2      NaN\n",
              "3      Raj\n",
              "4    Apple\n",
              "5      1a3\n",
              "dtype: object"
            ]
          },
          "metadata": {},
          "execution_count": 24
        }
      ]
    },
    {
      "cell_type": "code",
      "source": [
        "s111=pd.Series(('abc','sds','pyc'))\n",
        "s111"
      ],
      "metadata": {
        "colab": {
          "base_uri": "https://localhost:8080/"
        },
        "id": "MYKkZiHJXXp0",
        "outputId": "929fb61e-5e00-49bf-a989-0ae87c624358"
      },
      "execution_count": 26,
      "outputs": [
        {
          "output_type": "execute_result",
          "data": {
            "text/plain": [
              "0    abc\n",
              "1    sds\n",
              "2    pyc\n",
              "dtype: object"
            ]
          },
          "metadata": {},
          "execution_count": 26
        }
      ]
    },
    {
      "cell_type": "code",
      "source": [
        "s111.str.capitalize()"
      ],
      "metadata": {
        "colab": {
          "base_uri": "https://localhost:8080/"
        },
        "id": "9aNDmDefXXyD",
        "outputId": "8c46a814-2000-4528-e999-f4399332f834"
      },
      "execution_count": 28,
      "outputs": [
        {
          "output_type": "execute_result",
          "data": {
            "text/plain": [
              "0    Abc\n",
              "1    Sds\n",
              "2    Pyc\n",
              "dtype: object"
            ]
          },
          "metadata": {},
          "execution_count": 28
        }
      ]
    },
    {
      "cell_type": "code",
      "source": [
        "s111.str.title() # using str.title() method we can captial first letter"
      ],
      "metadata": {
        "colab": {
          "base_uri": "https://localhost:8080/"
        },
        "id": "s4CcFxFNaB2O",
        "outputId": "26404742-f510-42d2-854b-dc5cdf4d872e"
      },
      "execution_count": 30,
      "outputs": [
        {
          "output_type": "execute_result",
          "data": {
            "text/plain": [
              "0    Abc\n",
              "1    Sds\n",
              "2    Pyc\n",
              "dtype: object"
            ]
          },
          "metadata": {},
          "execution_count": 30
        }
      ]
    },
    {
      "cell_type": "code",
      "source": [
        "my_set = {1, 2, 3, 4, 5}\n",
        "my_series1 = pd.Series(my_set)\n",
        "my_series1\n"
      ],
      "metadata": {
        "colab": {
          "base_uri": "https://localhost:8080/",
          "height": 388
        },
        "id": "UA3hVC0UXX6u",
        "outputId": "98f243fc-49d7-44d3-ddab-995ab6723f5f"
      },
      "execution_count": 29,
      "outputs": [
        {
          "output_type": "error",
          "ename": "TypeError",
          "evalue": "ignored",
          "traceback": [
            "\u001b[0;31m---------------------------------------------------------------------------\u001b[0m",
            "\u001b[0;31mTypeError\u001b[0m                                 Traceback (most recent call last)",
            "\u001b[0;32m<ipython-input-29-b4ab8600468d>\u001b[0m in \u001b[0;36m<cell line: 2>\u001b[0;34m()\u001b[0m\n\u001b[1;32m      1\u001b[0m \u001b[0mmy_set\u001b[0m \u001b[0;34m=\u001b[0m \u001b[0;34m{\u001b[0m\u001b[0;36m1\u001b[0m\u001b[0;34m,\u001b[0m \u001b[0;36m2\u001b[0m\u001b[0;34m,\u001b[0m \u001b[0;36m3\u001b[0m\u001b[0;34m,\u001b[0m \u001b[0;36m4\u001b[0m\u001b[0;34m,\u001b[0m \u001b[0;36m5\u001b[0m\u001b[0;34m}\u001b[0m\u001b[0;34m\u001b[0m\u001b[0;34m\u001b[0m\u001b[0m\n\u001b[0;32m----> 2\u001b[0;31m \u001b[0mmy_series1\u001b[0m \u001b[0;34m=\u001b[0m \u001b[0mpd\u001b[0m\u001b[0;34m.\u001b[0m\u001b[0mSeries\u001b[0m\u001b[0;34m(\u001b[0m\u001b[0mmy_set\u001b[0m\u001b[0;34m)\u001b[0m\u001b[0;34m\u001b[0m\u001b[0;34m\u001b[0m\u001b[0m\n\u001b[0m\u001b[1;32m      3\u001b[0m \u001b[0mmy_series1\u001b[0m\u001b[0;34m\u001b[0m\u001b[0;34m\u001b[0m\u001b[0m\n",
            "\u001b[0;32m/usr/local/lib/python3.10/dist-packages/pandas/core/series.py\u001b[0m in \u001b[0;36m__init__\u001b[0;34m(self, data, index, dtype, name, copy, fastpath)\u001b[0m\n\u001b[1;32m    468\u001b[0m                     \u001b[0mdata\u001b[0m \u001b[0;34m=\u001b[0m \u001b[0mdata\u001b[0m\u001b[0;34m.\u001b[0m\u001b[0mcopy\u001b[0m\u001b[0;34m(\u001b[0m\u001b[0;34m)\u001b[0m\u001b[0;34m\u001b[0m\u001b[0;34m\u001b[0m\u001b[0m\n\u001b[1;32m    469\u001b[0m             \u001b[0;32melse\u001b[0m\u001b[0;34m:\u001b[0m\u001b[0;34m\u001b[0m\u001b[0;34m\u001b[0m\u001b[0m\n\u001b[0;32m--> 470\u001b[0;31m                 \u001b[0mdata\u001b[0m \u001b[0;34m=\u001b[0m \u001b[0msanitize_array\u001b[0m\u001b[0;34m(\u001b[0m\u001b[0mdata\u001b[0m\u001b[0;34m,\u001b[0m \u001b[0mindex\u001b[0m\u001b[0;34m,\u001b[0m \u001b[0mdtype\u001b[0m\u001b[0;34m,\u001b[0m \u001b[0mcopy\u001b[0m\u001b[0;34m)\u001b[0m\u001b[0;34m\u001b[0m\u001b[0;34m\u001b[0m\u001b[0m\n\u001b[0m\u001b[1;32m    471\u001b[0m \u001b[0;34m\u001b[0m\u001b[0m\n\u001b[1;32m    472\u001b[0m                 \u001b[0mmanager\u001b[0m \u001b[0;34m=\u001b[0m \u001b[0mget_option\u001b[0m\u001b[0;34m(\u001b[0m\u001b[0;34m\"mode.data_manager\"\u001b[0m\u001b[0;34m)\u001b[0m\u001b[0;34m\u001b[0m\u001b[0;34m\u001b[0m\u001b[0m\n",
            "\u001b[0;32m/usr/local/lib/python3.10/dist-packages/pandas/core/construction.py\u001b[0m in \u001b[0;36msanitize_array\u001b[0;34m(data, index, dtype, copy, raise_cast_failure, allow_2d)\u001b[0m\n\u001b[1;32m    609\u001b[0m         \u001b[0;32mif\u001b[0m \u001b[0misinstance\u001b[0m\u001b[0;34m(\u001b[0m\u001b[0mdata\u001b[0m\u001b[0;34m,\u001b[0m \u001b[0;34m(\u001b[0m\u001b[0mset\u001b[0m\u001b[0;34m,\u001b[0m \u001b[0mfrozenset\u001b[0m\u001b[0;34m)\u001b[0m\u001b[0;34m)\u001b[0m\u001b[0;34m:\u001b[0m\u001b[0;34m\u001b[0m\u001b[0;34m\u001b[0m\u001b[0m\n\u001b[1;32m    610\u001b[0m             \u001b[0;31m# Raise only for unordered sets, e.g., not for dict_keys\u001b[0m\u001b[0;34m\u001b[0m\u001b[0;34m\u001b[0m\u001b[0m\n\u001b[0;32m--> 611\u001b[0;31m             \u001b[0;32mraise\u001b[0m \u001b[0mTypeError\u001b[0m\u001b[0;34m(\u001b[0m\u001b[0;34mf\"'{type(data).__name__}' type is unordered\"\u001b[0m\u001b[0;34m)\u001b[0m\u001b[0;34m\u001b[0m\u001b[0;34m\u001b[0m\u001b[0m\n\u001b[0m\u001b[1;32m    612\u001b[0m \u001b[0;34m\u001b[0m\u001b[0m\n\u001b[1;32m    613\u001b[0m         \u001b[0;31m# materialize e.g. generators, convert e.g. tuples, abc.ValueView\u001b[0m\u001b[0;34m\u001b[0m\u001b[0;34m\u001b[0m\u001b[0m\n",
            "\u001b[0;31mTypeError\u001b[0m: 'set' type is unordered"
          ]
        }
      ]
    },
    {
      "cell_type": "code",
      "source": [
        "#above error can be remove list of set\n",
        "\n",
        "my_set = {1, 2, 3, 4, 5}\n",
        "my_series1 = pd.Series(list(my_set))\n",
        "\n",
        "print(my_series1)\n"
      ],
      "metadata": {
        "colab": {
          "base_uri": "https://localhost:8080/"
        },
        "id": "Qbcm1BqqZZ7g",
        "outputId": "0409931c-b5bd-46d9-a673-8345748bfd00"
      },
      "execution_count": 31,
      "outputs": [
        {
          "output_type": "stream",
          "name": "stdout",
          "text": [
            "0    1\n",
            "1    2\n",
            "2    3\n",
            "3    4\n",
            "4    5\n",
            "dtype: int64\n"
          ]
        }
      ]
    },
    {
      "cell_type": "code",
      "source": [
        "#Q.18 How to calculate the number of characters in each word in a series?"
      ],
      "metadata": {
        "id": "0DO5F2dCahpN"
      },
      "execution_count": null,
      "outputs": []
    },
    {
      "cell_type": "code",
      "source": [
        "# str.len() using len()function\n",
        "ser = pd.Series(['apple', 'banana', 'cherry', 'date'])\n",
        "\n",
        "word_lengths = ser.str.len()\n",
        "print(word_lengths)\n"
      ],
      "metadata": {
        "colab": {
          "base_uri": "https://localhost:8080/"
        },
        "id": "ktEtO20jaf9f",
        "outputId": "4ea98298-5f90-4027-8aa0-845e71737ca4"
      },
      "execution_count": 34,
      "outputs": [
        {
          "output_type": "stream",
          "name": "stdout",
          "text": [
            "0    5\n",
            "1    6\n",
            "2    6\n",
            "3    4\n",
            "dtype: int64\n"
          ]
        }
      ]
    },
    {
      "cell_type": "code",
      "source": [
        "len(ser) # count how many elements in given series"
      ],
      "metadata": {
        "colab": {
          "base_uri": "https://localhost:8080/"
        },
        "id": "gAmzB3p6a_8c",
        "outputId": "308e5e9b-29f4-483f-ac43-3c846c91bd72"
      },
      "execution_count": 36,
      "outputs": [
        {
          "output_type": "execute_result",
          "data": {
            "text/plain": [
              "4"
            ]
          },
          "metadata": {},
          "execution_count": 36
        }
      ]
    },
    {
      "cell_type": "code",
      "source": [
        "# Calculate the number of characters in each word\n",
        "#using apply()and lambda\n",
        "word_lengths = ser.apply(lambda x: len(x))\n",
        "\n",
        "print(word_lengths)\n"
      ],
      "metadata": {
        "colab": {
          "base_uri": "https://localhost:8080/"
        },
        "id": "GO2_DqFCbCYT",
        "outputId": "14ff64bd-6331-47b6-8721-040423ff13f3"
      },
      "execution_count": 37,
      "outputs": [
        {
          "output_type": "stream",
          "name": "stdout",
          "text": [
            "0    5\n",
            "1    6\n",
            "2    6\n",
            "3    4\n",
            "dtype: int64\n"
          ]
        }
      ]
    },
    {
      "cell_type": "code",
      "source": [
        "# Calculate the number of characters in each word using list comprehension\n",
        "_lengths = [len(word) for word in ser]\n",
        "_lengths"
      ],
      "metadata": {
        "colab": {
          "base_uri": "https://localhost:8080/"
        },
        "id": "G7IHj64zbZDL",
        "outputId": "51775c03-0e62-424f-a5d3-74e752c268c4"
      },
      "execution_count": 38,
      "outputs": [
        {
          "output_type": "execute_result",
          "data": {
            "text/plain": [
              "[5, 6, 6, 4]"
            ]
          },
          "metadata": {},
          "execution_count": 38
        }
      ]
    },
    {
      "cell_type": "code",
      "source": [
        "# using map() and lambda :\n",
        "#The map() function in pandas is used to apply a function to each element in a Series. It takes a function as an argument and applies that function to every element in the Series,\n",
        "#returning a new Series with the modified values.\n",
        "\n",
        "ser.map(lambda x: len(x))"
      ],
      "metadata": {
        "colab": {
          "base_uri": "https://localhost:8080/"
        },
        "id": "iTcwTt_zbZMb",
        "outputId": "3685fca7-4788-4c71-c10f-7be6fa6421dc"
      },
      "execution_count": 39,
      "outputs": [
        {
          "output_type": "execute_result",
          "data": {
            "text/plain": [
              "0    5\n",
              "1    6\n",
              "2    6\n",
              "3    4\n",
              "dtype: int64"
            ]
          },
          "metadata": {},
          "execution_count": 39
        }
      ]
    },
    {
      "cell_type": "code",
      "source": [
        "''' #It's commonly used when you want to process data element-wise \\n\n",
        "# without writing explicit loops.'''"
      ],
      "metadata": {
        "colab": {
          "base_uri": "https://localhost:8080/",
          "height": 54
        },
        "id": "JOBt8z2IcO1s",
        "outputId": "0a1cba5b-d2ad-44ca-d3e8-3f6eb2397832"
      },
      "execution_count": 41,
      "outputs": [
        {
          "output_type": "execute_result",
          "data": {
            "text/plain": [
              "\" #It's commonly used when you want to process data element-wise \\n\\n# without writing explicit loops.\""
            ],
            "application/vnd.google.colaboratory.intrinsic+json": {
              "type": "string"
            }
          },
          "metadata": {},
          "execution_count": 41
        }
      ]
    },
    {
      "cell_type": "code",
      "source": [
        "#Q.19: Write a Pandas program to sort a given Series."
      ],
      "metadata": {
        "id": "D2bjaQTpcYuJ"
      },
      "execution_count": 42,
      "outputs": []
    },
    {
      "cell_type": "code",
      "source": [
        "#METHOD 1: Using sort_values()"
      ],
      "metadata": {
        "id": "_9t4Ytkkcm3D"
      },
      "execution_count": 43,
      "outputs": []
    },
    {
      "cell_type": "code",
      "source": [
        "se_ = pd.Series([3, 1, 4, 1, 5, 9])\n",
        "\n",
        "# Sort the Series in ascending order\n",
        "sorted_ser = se_.sort_values()\n",
        "print(sorted_ser)\n"
      ],
      "metadata": {
        "colab": {
          "base_uri": "https://localhost:8080/"
        },
        "id": "ECwR00ZwcnY7",
        "outputId": "826fab5b-79f1-4324-af13-218679d96f48"
      },
      "execution_count": 44,
      "outputs": [
        {
          "output_type": "stream",
          "name": "stdout",
          "text": [
            "1    1\n",
            "3    1\n",
            "0    3\n",
            "2    4\n",
            "4    5\n",
            "5    9\n",
            "dtype: int64\n"
          ]
        }
      ]
    },
    {
      "cell_type": "code",
      "source": [
        "s = pd.Series(['100', '200', 'python', '300.12', '400'])\n",
        "s.sort_values()"
      ],
      "metadata": {
        "colab": {
          "base_uri": "https://localhost:8080/"
        },
        "id": "PLu4Xsf_dWGI",
        "outputId": "bb0815e7-d071-401e-85e5-fad51d3db98a"
      },
      "execution_count": 47,
      "outputs": [
        {
          "output_type": "execute_result",
          "data": {
            "text/plain": [
              "0       100\n",
              "1       200\n",
              "3    300.12\n",
              "4       400\n",
              "2    python\n",
              "dtype: object"
            ]
          },
          "metadata": {},
          "execution_count": 47
        }
      ]
    },
    {
      "cell_type": "code",
      "source": [
        "# sort_values(ascending=False) to sort the Series in descending order.\n",
        "# Sort the Series in descending order\n",
        "sorted_s = s.sort_values(ascending=False)\n",
        "sorted_s"
      ],
      "metadata": {
        "colab": {
          "base_uri": "https://localhost:8080/"
        },
        "id": "qdbTRZVrdhT9",
        "outputId": "faf35155-f819-44e4-d64c-20b4e02485ec"
      },
      "execution_count": 48,
      "outputs": [
        {
          "output_type": "execute_result",
          "data": {
            "text/plain": [
              "2    python\n",
              "4       400\n",
              "3    300.12\n",
              "1       200\n",
              "0       100\n",
              "dtype: object"
            ]
          },
          "metadata": {},
          "execution_count": 48
        }
      ]
    },
    {
      "cell_type": "code",
      "source": [
        "#METHOD 2: Using sort_index(): sort_index() to sort the Series by index in ascending order.\n",
        "\n",
        "se_.sort_index()"
      ],
      "metadata": {
        "colab": {
          "base_uri": "https://localhost:8080/"
        },
        "id": "zul2dVCmcnol",
        "outputId": "1386012c-c3e7-4625-9b7a-1882333504a9"
      },
      "execution_count": 46,
      "outputs": [
        {
          "output_type": "execute_result",
          "data": {
            "text/plain": [
              "0    3\n",
              "1    1\n",
              "2    4\n",
              "3    1\n",
              "4    5\n",
              "5    9\n",
              "dtype: int64"
            ]
          },
          "metadata": {},
          "execution_count": 46
        }
      ]
    },
    {
      "cell_type": "code",
      "source": [
        "#Q.20 :Write a Pandas program to add some data to an existing Series."
      ],
      "metadata": {
        "id": "OZ6bxNiacnx1"
      },
      "execution_count": 50,
      "outputs": []
    },
    {
      "cell_type": "code",
      "source": [
        "#METHOD 1:Using append():to add the new Series\n",
        "\n",
        "se = pd.Series([1, 2, 3])\n",
        "\n",
        "# Create a new Series to add\n",
        "new_data = pd.Series([4, 5, 6])\n",
        "\n",
        "# Use append() to add the new Series\n",
        "updated_ser = se.append(new_data, ignore_index=True)\n",
        "#ignore_index=True is used to reset the index.\n",
        "\n",
        "print(updated_ser)\n"
      ],
      "metadata": {
        "colab": {
          "base_uri": "https://localhost:8080/"
        },
        "id": "QNV18_f9cn9B",
        "outputId": "63c741ec-a69b-43b7-ba45-ad38869aab1e"
      },
      "execution_count": 53,
      "outputs": [
        {
          "output_type": "stream",
          "name": "stdout",
          "text": [
            "0    1\n",
            "1    2\n",
            "2    3\n",
            "3    4\n",
            "4    5\n",
            "5    6\n",
            "dtype: int64\n"
          ]
        },
        {
          "output_type": "stream",
          "name": "stderr",
          "text": [
            "<ipython-input-53-dbc49ffc319a>:9: FutureWarning: The series.append method is deprecated and will be removed from pandas in a future version. Use pandas.concat instead.\n",
            "  updated_ser = se.append(new_data, ignore_index=True)\n"
          ]
        }
      ]
    },
    {
      "cell_type": "code",
      "source": [
        "# method 2:Using loc[] with a new index add the new Series to the existing one\n",
        "se.loc[3] = 8\n",
        "se.loc[4] = 9\n",
        "print(se)\n"
      ],
      "metadata": {
        "colab": {
          "base_uri": "https://localhost:8080/"
        },
        "id": "0oQU_yHxcoGL",
        "outputId": "83ec0c95-c676-4c63-d645-d06ae03255dc"
      },
      "execution_count": 54,
      "outputs": [
        {
          "output_type": "stream",
          "name": "stdout",
          "text": [
            "0    1\n",
            "1    2\n",
            "2    3\n",
            "3    8\n",
            "4    9\n",
            "dtype: int64\n"
          ]
        }
      ]
    },
    {
      "cell_type": "code",
      "source": [
        "#Q21. Write a Pandas program to change the order of index of a given series."
      ],
      "metadata": {
        "id": "forvJbShe0bl"
      },
      "execution_count": 55,
      "outputs": []
    },
    {
      "cell_type": "code",
      "source": [
        "#using reindex():Use reindex() to change the order of indices\n",
        "ss1 = pd.Series([1, 2, 3, 4], index=['a', 'b', 'c', 'd'])\n",
        "print(ss1)\n",
        "#  the new order of indices\n",
        "new_order = ['b','d','a','c']\n",
        "\n",
        "# Use reindex() to change the order of indices\n",
        "reordered_ser = ss1.reindex(new_order)\n",
        "\n",
        "print(reordered_ser)\n"
      ],
      "metadata": {
        "colab": {
          "base_uri": "https://localhost:8080/"
        },
        "id": "1UCV-n9PfiS8",
        "outputId": "6ea86d0a-8ae2-4502-f1c1-cfd349a3c7e6"
      },
      "execution_count": 59,
      "outputs": [
        {
          "output_type": "stream",
          "name": "stdout",
          "text": [
            "a    1\n",
            "b    2\n",
            "c    3\n",
            "d    4\n",
            "dtype: int64\n",
            "b    2\n",
            "d    4\n",
            "a    1\n",
            "c    3\n",
            "dtype: int64\n"
          ]
        }
      ]
    },
    {
      "cell_type": "code",
      "source": [
        "# Q.22 Write a Pandas program to create the mean and standard deviation of the data of a given Series."
      ],
      "metadata": {
        "id": "YCNN4jPtf34T"
      },
      "execution_count": 60,
      "outputs": []
    },
    {
      "cell_type": "code",
      "source": [
        "x = pd.Series([1,4,5,8,0,9])\n",
        "print(x)\n",
        "\n",
        "print(\"\\n\")\n",
        "print(\"Mean for the given series: \",x.mean())\n",
        "print(\"Standard Deviation for the given series:\", x.std())"
      ],
      "metadata": {
        "colab": {
          "base_uri": "https://localhost:8080/"
        },
        "id": "tgE_PEVxhY_Q",
        "outputId": "5b66987e-cb49-4a4e-aa1c-c6d0f350337f"
      },
      "execution_count": 61,
      "outputs": [
        {
          "output_type": "stream",
          "name": "stdout",
          "text": [
            "0    1\n",
            "1    4\n",
            "2    5\n",
            "3    8\n",
            "4    0\n",
            "5    9\n",
            "dtype: int64\n",
            "\n",
            "\n",
            "Mean for the given series:  4.5\n",
            "Standard Deviation for the given series: 3.6193922141707713\n"
          ]
        }
      ]
    },
    {
      "cell_type": "code",
      "source": [
        "#Q.23 Write a Pandas program to convert a series of date strings to a timeseries."
      ],
      "metadata": {
        "id": "IcZGbJV8hvlc"
      },
      "execution_count": null,
      "outputs": []
    },
    {
      "cell_type": "code",
      "source": [
        "x = pd.Series(['09 Feb 2023', '12/01/2022', '21-03-2022', '30 Apr 2022 11:40'])\n",
        "print(x)\n",
        "#pd.to_datetime() function is used to convert the strings representing\n",
        "#dates into datetime objects.\n"
      ],
      "metadata": {
        "colab": {
          "base_uri": "https://localhost:8080/"
        },
        "id": "zREJfs2ChwUY",
        "outputId": "90bbd3c0-f227-47ef-bfb1-cf3e7e0e7685"
      },
      "execution_count": 64,
      "outputs": [
        {
          "output_type": "stream",
          "name": "stdout",
          "text": [
            "0          09 Feb 2023\n",
            "1           12/01/2022\n",
            "2           21-03-2022\n",
            "3    30 Apr 2022 11:40\n",
            "dtype: object\n"
          ]
        }
      ]
    },
    {
      "cell_type": "code",
      "source": [
        "print(pd.to_datetime(x))"
      ],
      "metadata": {
        "colab": {
          "base_uri": "https://localhost:8080/"
        },
        "id": "YilCQVyqiJBs",
        "outputId": "f258ca1a-0f4f-4594-c23e-8ac27a472e31"
      },
      "execution_count": 65,
      "outputs": [
        {
          "output_type": "stream",
          "name": "stdout",
          "text": [
            "0   2023-02-09 00:00:00\n",
            "1   2022-12-01 00:00:00\n",
            "2   2022-03-21 00:00:00\n",
            "3   2022-04-30 11:40:00\n",
            "dtype: datetime64[ns]\n"
          ]
        },
        {
          "output_type": "stream",
          "name": "stderr",
          "text": [
            "<ipython-input-65-ec3983b5a894>:1: UserWarning: Parsing dates in DD/MM/YYYY format when dayfirst=False (the default) was specified. This may lead to inconsistently parsed dates! Specify a format to ensure consistent parsing.\n",
            "  print(pd.to_datetime(x))\n"
          ]
        }
      ]
    },
    {
      "cell_type": "markdown",
      "source": [
        "# **Dataframe:****"
      ],
      "metadata": {
        "id": "7gL797vziY_3"
      }
    },
    {
      "cell_type": "code",
      "source": [],
      "metadata": {
        "id": "iDy6LMgdidst"
      },
      "execution_count": null,
      "outputs": []
    }
  ]
}